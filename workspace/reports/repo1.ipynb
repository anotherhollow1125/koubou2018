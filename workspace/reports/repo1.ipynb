{
 "cells": [
  {
   "cell_type": "markdown",
   "metadata": {},
   "source": [
    "# 1 AND回路, NAND回路, OR回路の実装する\n",
    "\n",
    "ⅰ. 関数名は各々，`AND(x1, x2)`, `NAND(x1, x2)`, `OR(x1, x2)`として，numpy配列を引数に取れるようにする。\n",
    "(出力結果は[3](#3-出力結果)にて、[2](#2-1で実装した関数を利用してXOR関数を実装する)とまとめて行うこととする。)\n",
    "\n",
    "関数名は若干変わってしまったが、numpy配列(np.ndarray型)を引数にとれる仕様としました。それ以外は\n",
    "[赤本](https://www.oreilly.co.jp/books/9784873117584/)に準拠しました。"
   ]
  },
  {
   "cell_type": "code",
   "execution_count": 3,
   "metadata": {},
   "outputs": [],
   "source": [
    "%matplotlib inline\n",
    "import pandas as pd\n",
    "import numpy as np\n",
    "\n",
    "def AND(*x) -> np.ndarray:\n",
    "    if len(x) == 2: x = np.array([x[0], x[1]])\n",
    "    w = np.array([0.5, 0.5])\n",
    "    b = -0.7\n",
    "    tmp = np.sum(x*w) + b\n",
    "    if tmp <= 0:\n",
    "        return 0\n",
    "    else:\n",
    "        return 1\n",
    "\n",
    "def NAND(*x) -> np.ndarray:\n",
    "    if len(x) == 2: x = np.array([x[0], x[1]])\n",
    "    w = np.array([-0.5, -0.5])\n",
    "    b = 0.7\n",
    "    tmp = np.sum(x*w) + b\n",
    "    if tmp <= 0:\n",
    "        return 0\n",
    "    else:\n",
    "        return 1\n",
    "\n",
    "def OR(*x) -> np.ndarray:\n",
    "    if len(x) == 2: x = np.array([x[0], x[1]])\n",
    "    w = np.array([0.5, 0.5])\n",
    "    b = -0.2\n",
    "    tmp = np.sum(x*w) + b\n",
    "    if tmp <= 0:\n",
    "        return 0\n",
    "    else:\n",
    "        return 1"
   ]
  },
  {
   "cell_type": "markdown",
   "metadata": {},
   "source": [
    "# 2 1で実装した関数を利用してXOR関数を実装する\n",
    "\n",
    "ⅱ. 関数名は，`XOR(x1, x2)`として，numpy配列を引数に取れるようにする。\n",
    "\n",
    "こちらは少しだけ[赤本](https://www.oreilly.co.jp/books/9784873117584/)とは実装を変えました。numpy配列を引数としてとるために、比較的シンプルなコードとなりました。"
   ]
  },
  {
   "cell_type": "code",
   "execution_count": 5,
   "metadata": {},
   "outputs": [],
   "source": [
    "def XOR(*x) -> np.ndarray:\n",
    "    if len(x) == 2: x = np.array([x[0], x[1]])\n",
    "    return AND(NAND(x),OR(x))"
   ]
  },
  {
   "cell_type": "markdown",
   "metadata": {},
   "source": [
    "# 3 出力結果"
   ]
  },
  {
   "cell_type": "code",
   "execution_count": 7,
   "metadata": {
    "scrolled": true
   },
   "outputs": [
    {
     "data": {
      "text/html": [
       "<div>\n",
       "<style scoped>\n",
       "    .dataframe tbody tr th:only-of-type {\n",
       "        vertical-align: middle;\n",
       "    }\n",
       "\n",
       "    .dataframe tbody tr th {\n",
       "        vertical-align: top;\n",
       "    }\n",
       "\n",
       "    .dataframe thead th {\n",
       "        text-align: right;\n",
       "    }\n",
       "</style>\n",
       "<table border=\"1\" class=\"dataframe\">\n",
       "  <thead>\n",
       "    <tr style=\"text-align: right;\">\n",
       "      <th></th>\n",
       "      <th>x1</th>\n",
       "      <th>x2</th>\n",
       "      <th>AND</th>\n",
       "      <th>NAND</th>\n",
       "      <th>OR</th>\n",
       "      <th>XOR</th>\n",
       "    </tr>\n",
       "  </thead>\n",
       "  <tbody>\n",
       "    <tr>\n",
       "      <th>0</th>\n",
       "      <td>0</td>\n",
       "      <td>0</td>\n",
       "      <td>0</td>\n",
       "      <td>1</td>\n",
       "      <td>0</td>\n",
       "      <td>0</td>\n",
       "    </tr>\n",
       "    <tr>\n",
       "      <th>1</th>\n",
       "      <td>1</td>\n",
       "      <td>0</td>\n",
       "      <td>0</td>\n",
       "      <td>1</td>\n",
       "      <td>1</td>\n",
       "      <td>1</td>\n",
       "    </tr>\n",
       "    <tr>\n",
       "      <th>2</th>\n",
       "      <td>0</td>\n",
       "      <td>1</td>\n",
       "      <td>0</td>\n",
       "      <td>1</td>\n",
       "      <td>1</td>\n",
       "      <td>1</td>\n",
       "    </tr>\n",
       "    <tr>\n",
       "      <th>3</th>\n",
       "      <td>1</td>\n",
       "      <td>1</td>\n",
       "      <td>1</td>\n",
       "      <td>0</td>\n",
       "      <td>1</td>\n",
       "      <td>0</td>\n",
       "    </tr>\n",
       "  </tbody>\n",
       "</table>\n",
       "</div>"
      ],
      "text/plain": [
       "   x1  x2  AND  NAND  OR  XOR\n",
       "0   0   0    0     1   0    0\n",
       "1   1   0    0     1   1    1\n",
       "2   0   1    0     1   1    1\n",
       "3   1   1    1     0   1    0"
      ]
     },
     "execution_count": 7,
     "metadata": {},
     "output_type": "execute_result"
    }
   ],
   "source": [
    "x_inpts = [[0, 0]\n",
    "          ,[1, 0]\n",
    "          ,[0, 1]\n",
    "          ,[1, 1]]\n",
    "results = [[x[0], x[1], AND(x), NAND(x), OR(x), XOR(x)] for x in x_inpts]\n",
    "pd.DataFrame(results, columns=[\"x1\", \"x2\", \"AND\", \"NAND\", \"OR\", \"XOR\"])"
   ]
  }
 ],
 "metadata": {
  "kernelspec": {
   "display_name": "Python 3",
   "language": "python",
   "name": "python3"
  },
  "language_info": {
   "codemirror_mode": {
    "name": "ipython",
    "version": 3
   },
   "file_extension": ".py",
   "mimetype": "text/x-python",
   "name": "python",
   "nbconvert_exporter": "python",
   "pygments_lexer": "ipython3",
   "version": "3.6.4"
  }
 },
 "nbformat": 4,
 "nbformat_minor": 2
}
